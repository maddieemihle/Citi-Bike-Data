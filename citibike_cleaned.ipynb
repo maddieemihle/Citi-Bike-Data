{
 "cells": [
  {
   "cell_type": "code",
   "execution_count": 2,
   "metadata": {},
   "outputs": [],
   "source": [
    "# Import dependencies\n",
    "import os\n",
    "import sys\n",
    "import pandas as pd\n",
    "from pathlib import Path"
   ]
  },
  {
   "cell_type": "markdown",
   "metadata": {},
   "source": [
    "### 2021 Citibike Trip Data (June 2021-December 2021)"
   ]
  },
  {
   "cell_type": "code",
   "execution_count": 4,
   "metadata": {},
   "outputs": [
    {
     "name": "stderr",
     "output_type": "stream",
     "text": [
      "/var/folders/mp/thd95nvx4mx5cz9q4kvwptn40000gn/T/ipykernel_7797/3471407885.py:2: DtypeWarning: Columns (5,7) have mixed types. Specify dtype option on import or set low_memory=False.\n",
      "  citibike_01_1 = pd.read_csv('2021-citibike-tripdata/202101-citibike-tripdata_1.csv')\n"
     ]
    }
   ],
   "source": [
    "# Read csv file as a Pandas DataFrame \n",
    "citibike_01_1 = pd.read_csv('2021-citibike-tripdata/202101-citibike-tripdata_1.csv')\n",
    "citibike_01_2 = pd.read_csv('2021-citibike-tripdata/202101-citibike-tripdata_2.csv')"
   ]
  },
  {
   "cell_type": "code",
   "execution_count": 5,
   "metadata": {},
   "outputs": [],
   "source": [
    "# merge the two csv files into one DataFrame\n",
    "citibike_01 = pd.concat([citibike_01_1, citibike_01_2], ignore_index=True)"
   ]
  },
  {
   "cell_type": "code",
   "execution_count": 6,
   "metadata": {},
   "outputs": [],
   "source": [
    "#save as new csv file to 2021 tripdata folder\n",
    "citibike_01.to_csv('2021-citibike-tripdata/202101-citibike-tripdata.csv', index=False)"
   ]
  },
  {
   "cell_type": "code",
   "execution_count": null,
   "metadata": {},
   "outputs": [],
   "source": [
    "# slim down csv file to only the first 50000 rows\n",
    "citibike_01 = citibike_01.head(50000)"
   ]
  },
  {
   "cell_type": "code",
   "execution_count": 7,
   "metadata": {},
   "outputs": [
    {
     "name": "stderr",
     "output_type": "stream",
     "text": [
      "/var/folders/mp/thd95nvx4mx5cz9q4kvwptn40000gn/T/ipykernel_7797/2517690629.py:2: DtypeWarning: Columns (5,7) have mixed types. Specify dtype option on import or set low_memory=False.\n",
      "  citibike_03_1 = pd.read_csv('2021-citibike-tripdata/202103-citibike-tripdata_1.csv')\n",
      "/var/folders/mp/thd95nvx4mx5cz9q4kvwptn40000gn/T/ipykernel_7797/2517690629.py:3: DtypeWarning: Columns (7) have mixed types. Specify dtype option on import or set low_memory=False.\n",
      "  citibike_03_2 = pd.read_csv('2021-citibike-tripdata/202103-citibike-tripdata_2.csv')\n"
     ]
    }
   ],
   "source": [
    "# import new csv file\n",
    "citibike_03_1 = pd.read_csv('2021-citibike-tripdata/202103-citibike-tripdata_1.csv')\n",
    "citibike_03_2 = pd.read_csv('2021-citibike-tripdata/202103-citibike-tripdata_2.csv')"
   ]
  },
  {
   "cell_type": "code",
   "execution_count": 8,
   "metadata": {},
   "outputs": [],
   "source": [
    "# merge the two csv files into one DataFrame\n",
    "citibike_03 = pd.concat([citibike_03_1, citibike_03_2], ignore_index=True)"
   ]
  },
  {
   "cell_type": "code",
   "execution_count": 9,
   "metadata": {},
   "outputs": [],
   "source": [
    "# save as new csv file\n",
    "citibike_03.to_csv('2021-citibike-tripdata/202103-citibike-tripdata.csv', index=False)"
   ]
  },
  {
   "cell_type": "code",
   "execution_count": 10,
   "metadata": {},
   "outputs": [
    {
     "name": "stderr",
     "output_type": "stream",
     "text": [
      "/var/folders/mp/thd95nvx4mx5cz9q4kvwptn40000gn/T/ipykernel_7797/4255739061.py:2: DtypeWarning: Columns (5,7) have mixed types. Specify dtype option on import or set low_memory=False.\n",
      "  citibike_04_1 = pd.read_csv('2021-citibike-tripdata/202104-citibike-tripdata_1.csv')\n",
      "/var/folders/mp/thd95nvx4mx5cz9q4kvwptn40000gn/T/ipykernel_7797/4255739061.py:3: DtypeWarning: Columns (7) have mixed types. Specify dtype option on import or set low_memory=False.\n",
      "  citibike_04_2 = pd.read_csv('2021-citibike-tripdata/202104-citibike-tripdata_2.csv')\n"
     ]
    }
   ],
   "source": [
    "# import new csv file\n",
    "citibike_04_1 = pd.read_csv('2021-citibike-tripdata/202104-citibike-tripdata_1.csv')\n",
    "citibike_04_2 = pd.read_csv('2021-citibike-tripdata/202104-citibike-tripdata_2.csv')\n",
    "citibike_04_3 = pd.read_csv('2021-citibike-tripdata/202104-citibike-tripdata_3.csv')"
   ]
  },
  {
   "cell_type": "code",
   "execution_count": 11,
   "metadata": {},
   "outputs": [],
   "source": [
    "# merge the 3 csv files into one DataFrame\n",
    "citibike_04 = pd.concat([citibike_04_1, citibike_04_2, citibike_04_3], ignore_index=True)"
   ]
  },
  {
   "cell_type": "code",
   "execution_count": 12,
   "metadata": {},
   "outputs": [],
   "source": [
    "# save as new csv file\n",
    "citibike_04.to_csv('2021-citibike-tripdata/202104-citibike-tripdata.csv', index=False)"
   ]
  },
  {
   "cell_type": "code",
   "execution_count": 13,
   "metadata": {},
   "outputs": [
    {
     "name": "stderr",
     "output_type": "stream",
     "text": [
      "/var/folders/mp/thd95nvx4mx5cz9q4kvwptn40000gn/T/ipykernel_7797/2275519555.py:2: DtypeWarning: Columns (5,7) have mixed types. Specify dtype option on import or set low_memory=False.\n",
      "  citibike_05_1 = pd.read_csv('2021-citibike-tripdata/202105-citibike-tripdata_1.csv')\n",
      "/var/folders/mp/thd95nvx4mx5cz9q4kvwptn40000gn/T/ipykernel_7797/2275519555.py:3: DtypeWarning: Columns (7) have mixed types. Specify dtype option on import or set low_memory=False.\n",
      "  citibike_05_2 = pd.read_csv('2021-citibike-tripdata/202105-citibike-tripdata_2.csv')\n",
      "/var/folders/mp/thd95nvx4mx5cz9q4kvwptn40000gn/T/ipykernel_7797/2275519555.py:4: DtypeWarning: Columns (7) have mixed types. Specify dtype option on import or set low_memory=False.\n",
      "  citibike_05_3 = pd.read_csv('2021-citibike-tripdata/202105-citibike-tripdata_3.csv')\n"
     ]
    }
   ],
   "source": [
    "# import new csv file\n",
    "citibike_05_1 = pd.read_csv('2021-citibike-tripdata/202105-citibike-tripdata_1.csv')\n",
    "citibike_05_2 = pd.read_csv('2021-citibike-tripdata/202105-citibike-tripdata_2.csv')\n",
    "citibike_05_3 = pd.read_csv('2021-citibike-tripdata/202105-citibike-tripdata_3.csv')"
   ]
  },
  {
   "cell_type": "code",
   "execution_count": 14,
   "metadata": {},
   "outputs": [],
   "source": [
    "# merge the 3 csv files into one DataFrame\n",
    "citibike_05 = pd.concat([citibike_05_1, citibike_05_2, citibike_05_3], ignore_index=True)"
   ]
  },
  {
   "cell_type": "code",
   "execution_count": 15,
   "metadata": {},
   "outputs": [],
   "source": [
    "# save as new csv file\n",
    "citibike_05.to_csv('2021-citibike-tripdata/202105-citibike-tripdata.csv', index=False)"
   ]
  },
  {
   "cell_type": "code",
   "execution_count": 16,
   "metadata": {},
   "outputs": [
    {
     "name": "stderr",
     "output_type": "stream",
     "text": [
      "/var/folders/mp/thd95nvx4mx5cz9q4kvwptn40000gn/T/ipykernel_7797/351574951.py:2: DtypeWarning: Columns (7) have mixed types. Specify dtype option on import or set low_memory=False.\n",
      "  citibike_06_1 = pd.read_csv('2021-citibike-tripdata/202106-citibike-tripdata_1.csv')\n",
      "/var/folders/mp/thd95nvx4mx5cz9q4kvwptn40000gn/T/ipykernel_7797/351574951.py:3: DtypeWarning: Columns (7) have mixed types. Specify dtype option on import or set low_memory=False.\n",
      "  citibike_06_2 = pd.read_csv('2021-citibike-tripdata/202106-citibike-tripdata_2.csv')\n",
      "/var/folders/mp/thd95nvx4mx5cz9q4kvwptn40000gn/T/ipykernel_7797/351574951.py:4: DtypeWarning: Columns (7) have mixed types. Specify dtype option on import or set low_memory=False.\n",
      "  citibike_06_3 = pd.read_csv('2021-citibike-tripdata/202106-citibike-tripdata_3.csv')\n",
      "/var/folders/mp/thd95nvx4mx5cz9q4kvwptn40000gn/T/ipykernel_7797/351574951.py:5: DtypeWarning: Columns (7) have mixed types. Specify dtype option on import or set low_memory=False.\n",
      "  citibike_06_4 = pd.read_csv('2021-citibike-tripdata/202106-citibike-tripdata_4.csv')\n"
     ]
    }
   ],
   "source": [
    "# import new csv file\n",
    "citibike_06_1 = pd.read_csv('2021-citibike-tripdata/202106-citibike-tripdata_1.csv')\n",
    "citibike_06_2 = pd.read_csv('2021-citibike-tripdata/202106-citibike-tripdata_2.csv')\n",
    "citibike_06_3 = pd.read_csv('2021-citibike-tripdata/202106-citibike-tripdata_3.csv')\n",
    "citibike_06_4 = pd.read_csv('2021-citibike-tripdata/202106-citibike-tripdata_4.csv')"
   ]
  },
  {
   "cell_type": "code",
   "execution_count": 17,
   "metadata": {},
   "outputs": [],
   "source": [
    "# merge the 4 csv files into one DataFrame\n",
    "citibike_06 = pd.concat([citibike_06_1, citibike_06_2, citibike_06_3, citibike_06_4], ignore_index=True)"
   ]
  },
  {
   "cell_type": "code",
   "execution_count": 18,
   "metadata": {},
   "outputs": [],
   "source": [
    "# save as new csv file\n",
    "citibike_06.to_csv('2021-citibike-tripdata/202106-citibike-tripdata.csv', index=False)"
   ]
  },
  {
   "cell_type": "code",
   "execution_count": 19,
   "metadata": {},
   "outputs": [
    {
     "name": "stderr",
     "output_type": "stream",
     "text": [
      "/var/folders/mp/thd95nvx4mx5cz9q4kvwptn40000gn/T/ipykernel_7797/66270253.py:2: DtypeWarning: Columns (7) have mixed types. Specify dtype option on import or set low_memory=False.\n",
      "  citibike_07_1 = pd.read_csv('2021-citibike-tripdata/202107-citibike-tripdata_1.csv')\n",
      "/var/folders/mp/thd95nvx4mx5cz9q4kvwptn40000gn/T/ipykernel_7797/66270253.py:3: DtypeWarning: Columns (7) have mixed types. Specify dtype option on import or set low_memory=False.\n",
      "  citibike_07_2 = pd.read_csv('2021-citibike-tripdata/202107-citibike-tripdata_2.csv')\n",
      "/var/folders/mp/thd95nvx4mx5cz9q4kvwptn40000gn/T/ipykernel_7797/66270253.py:4: DtypeWarning: Columns (7) have mixed types. Specify dtype option on import or set low_memory=False.\n",
      "  citibike_07_3 = pd.read_csv('2021-citibike-tripdata/202107-citibike-tripdata_3.csv')\n"
     ]
    }
   ],
   "source": [
    "# import new csv file\n",
    "citibike_07_1 = pd.read_csv('2021-citibike-tripdata/202107-citibike-tripdata_1.csv')\n",
    "citibike_07_2 = pd.read_csv('2021-citibike-tripdata/202107-citibike-tripdata_2.csv')\n",
    "citibike_07_3 = pd.read_csv('2021-citibike-tripdata/202107-citibike-tripdata_3.csv')\n",
    "citibike_07_4 = pd.read_csv('2021-citibike-tripdata/202107-citibike-tripdata_4.csv')"
   ]
  },
  {
   "cell_type": "code",
   "execution_count": 20,
   "metadata": {},
   "outputs": [],
   "source": [
    "# merge the 4 csv files into one DataFrame\n",
    "citibike_07 = pd.concat([citibike_07_1, citibike_07_2, citibike_07_3, citibike_07_4], ignore_index=True)"
   ]
  },
  {
   "cell_type": "code",
   "execution_count": 21,
   "metadata": {},
   "outputs": [],
   "source": [
    "# save as new csv file\n",
    "citibike_07.to_csv('2021-citibike-tripdata/202107-citibike-tripdata.csv', index=False)"
   ]
  },
  {
   "cell_type": "code",
   "execution_count": 22,
   "metadata": {},
   "outputs": [
    {
     "name": "stderr",
     "output_type": "stream",
     "text": [
      "/var/folders/mp/thd95nvx4mx5cz9q4kvwptn40000gn/T/ipykernel_7797/2975411359.py:2: DtypeWarning: Columns (7) have mixed types. Specify dtype option on import or set low_memory=False.\n",
      "  citibike_08_1 = pd.read_csv('2021-citibike-tripdata/202108-citibike-tripdata_1.csv')\n",
      "/var/folders/mp/thd95nvx4mx5cz9q4kvwptn40000gn/T/ipykernel_7797/2975411359.py:3: DtypeWarning: Columns (7) have mixed types. Specify dtype option on import or set low_memory=False.\n",
      "  citibike_08_2 = pd.read_csv('2021-citibike-tripdata/202108-citibike-tripdata_2.csv')\n",
      "/var/folders/mp/thd95nvx4mx5cz9q4kvwptn40000gn/T/ipykernel_7797/2975411359.py:4: DtypeWarning: Columns (7) have mixed types. Specify dtype option on import or set low_memory=False.\n",
      "  citibike_08_3 = pd.read_csv('2021-citibike-tripdata/202108-citibike-tripdata_3.csv')\n"
     ]
    }
   ],
   "source": [
    "# import new csv file\n",
    "citibike_08_1 = pd.read_csv('2021-citibike-tripdata/202108-citibike-tripdata_1.csv')\n",
    "citibike_08_2 = pd.read_csv('2021-citibike-tripdata/202108-citibike-tripdata_2.csv')\n",
    "citibike_08_3 = pd.read_csv('2021-citibike-tripdata/202108-citibike-tripdata_3.csv')\n",
    "citibike_08_4 = pd.read_csv('2021-citibike-tripdata/202108-citibike-tripdata_4.csv')"
   ]
  },
  {
   "cell_type": "code",
   "execution_count": 23,
   "metadata": {},
   "outputs": [],
   "source": [
    "# merge the 4 csv files into one DataFrame\n",
    "citibike_08 = pd.concat([citibike_08_1, citibike_08_2, citibike_08_3, citibike_08_4], ignore_index=True)"
   ]
  },
  {
   "cell_type": "code",
   "execution_count": 24,
   "metadata": {},
   "outputs": [],
   "source": [
    "# save as new csv file\n",
    "citibike_08.to_csv('2021-citibike-tripdata/202108-citibike-tripdata.csv', index=False)"
   ]
  },
  {
   "cell_type": "code",
   "execution_count": 25,
   "metadata": {},
   "outputs": [
    {
     "name": "stderr",
     "output_type": "stream",
     "text": [
      "/var/folders/mp/thd95nvx4mx5cz9q4kvwptn40000gn/T/ipykernel_7797/3503262160.py:2: DtypeWarning: Columns (7) have mixed types. Specify dtype option on import or set low_memory=False.\n",
      "  citibike_09_1 = pd.read_csv('2021-citibike-tripdata/202109-citibike-tripdata_1.csv')\n",
      "/var/folders/mp/thd95nvx4mx5cz9q4kvwptn40000gn/T/ipykernel_7797/3503262160.py:3: DtypeWarning: Columns (7) have mixed types. Specify dtype option on import or set low_memory=False.\n",
      "  citibike_09_2 = pd.read_csv('2021-citibike-tripdata/202109-citibike-tripdata_2.csv')\n",
      "/var/folders/mp/thd95nvx4mx5cz9q4kvwptn40000gn/T/ipykernel_7797/3503262160.py:4: DtypeWarning: Columns (7) have mixed types. Specify dtype option on import or set low_memory=False.\n",
      "  citibike_09_3 = pd.read_csv('2021-citibike-tripdata/202109-citibike-tripdata_3.csv')\n",
      "/var/folders/mp/thd95nvx4mx5cz9q4kvwptn40000gn/T/ipykernel_7797/3503262160.py:5: DtypeWarning: Columns (7) have mixed types. Specify dtype option on import or set low_memory=False.\n",
      "  citibike_09_4 = pd.read_csv('2021-citibike-tripdata/202109-citibike-tripdata_4.csv')\n"
     ]
    }
   ],
   "source": [
    "# import new csv file\n",
    "citibike_09_1 = pd.read_csv('2021-citibike-tripdata/202109-citibike-tripdata_1.csv')\n",
    "citibike_09_2 = pd.read_csv('2021-citibike-tripdata/202109-citibike-tripdata_2.csv')\n",
    "citibike_09_3 = pd.read_csv('2021-citibike-tripdata/202109-citibike-tripdata_3.csv')\n",
    "citibike_09_4 = pd.read_csv('2021-citibike-tripdata/202109-citibike-tripdata_4.csv')"
   ]
  },
  {
   "cell_type": "code",
   "execution_count": 26,
   "metadata": {},
   "outputs": [],
   "source": [
    "# merge the 4 csv files into one DataFrame\n",
    "citibike_09 = pd.concat([citibike_09_1, citibike_09_2, citibike_09_3, citibike_09_4], ignore_index=True)"
   ]
  },
  {
   "cell_type": "code",
   "execution_count": 28,
   "metadata": {},
   "outputs": [],
   "source": [
    "# save as new csv file\n",
    "citibike_09.to_csv('2021-citibike-tripdata/202109-citibike-tripdata.csv', index=False)"
   ]
  },
  {
   "cell_type": "code",
   "execution_count": 36,
   "metadata": {},
   "outputs": [
    {
     "name": "stderr",
     "output_type": "stream",
     "text": [
      "/var/folders/mp/thd95nvx4mx5cz9q4kvwptn40000gn/T/ipykernel_7797/1523149987.py:2: DtypeWarning: Columns (5,7) have mixed types. Specify dtype option on import or set low_memory=False.\n",
      "  citibike_10_1 = pd.read_csv('2021-citibike-tripdata/202110-citibike-tripdata_1.csv')\n",
      "/var/folders/mp/thd95nvx4mx5cz9q4kvwptn40000gn/T/ipykernel_7797/1523149987.py:3: DtypeWarning: Columns (5,7) have mixed types. Specify dtype option on import or set low_memory=False.\n",
      "  citibike_10_2 = pd.read_csv('2021-citibike-tripdata/202110-citibike-tripdata_2.csv')\n",
      "/var/folders/mp/thd95nvx4mx5cz9q4kvwptn40000gn/T/ipykernel_7797/1523149987.py:4: DtypeWarning: Columns (5,7) have mixed types. Specify dtype option on import or set low_memory=False.\n",
      "  citibike_10_3 = pd.read_csv('2021-citibike-tripdata/202110-citibike-tripdata_3.csv')\n"
     ]
    }
   ],
   "source": [
    "# import new csv file\n",
    "citibike_10_1 = pd.read_csv('2021-citibike-tripdata/202110-citibike-tripdata_1.csv')\n",
    "citibike_10_2 = pd.read_csv('2021-citibike-tripdata/202110-citibike-tripdata_2.csv')\n",
    "citibike_10_3 = pd.read_csv('2021-citibike-tripdata/202110-citibike-tripdata_3.csv')\n",
    "citibike_10_4 = pd.read_csv('2021-citibike-tripdata/202110-citibike-tripdata_4.csv')"
   ]
  },
  {
   "cell_type": "code",
   "execution_count": 37,
   "metadata": {},
   "outputs": [],
   "source": [
    "# merge the 3 csv files into one DataFrame\n",
    "citibike_10 = pd.concat([citibike_10_1, citibike_10_2, citibike_10_3, citibike_10_4], ignore_index=True)"
   ]
  },
  {
   "cell_type": "code",
   "execution_count": 38,
   "metadata": {},
   "outputs": [],
   "source": [
    "# save as new csv file\n",
    "citibike_10.to_csv('2021-citibike-tripdata/202110-citibike-tripdata.csv', index=False)"
   ]
  },
  {
   "cell_type": "code",
   "execution_count": 33,
   "metadata": {},
   "outputs": [
    {
     "name": "stderr",
     "output_type": "stream",
     "text": [
      "/var/folders/mp/thd95nvx4mx5cz9q4kvwptn40000gn/T/ipykernel_7797/1696844986.py:2: DtypeWarning: Columns (5,7) have mixed types. Specify dtype option on import or set low_memory=False.\n",
      "  citibike_11_1 = pd.read_csv('2021-citibike-tripdata/202111-citibike-tripdata_1.csv')\n",
      "/var/folders/mp/thd95nvx4mx5cz9q4kvwptn40000gn/T/ipykernel_7797/1696844986.py:3: DtypeWarning: Columns (5,7) have mixed types. Specify dtype option on import or set low_memory=False.\n",
      "  citibike_11_2 = pd.read_csv('2021-citibike-tripdata/202111-citibike-tripdata_2.csv')\n",
      "/var/folders/mp/thd95nvx4mx5cz9q4kvwptn40000gn/T/ipykernel_7797/1696844986.py:4: DtypeWarning: Columns (5,7) have mixed types. Specify dtype option on import or set low_memory=False.\n",
      "  citibike_11_3 = pd.read_csv('2021-citibike-tripdata/202111-citibike-tripdata_3.csv')\n"
     ]
    }
   ],
   "source": [
    "# import new csv file\n",
    "citibike_11_1 = pd.read_csv('2021-citibike-tripdata/202111-citibike-tripdata_1.csv')\n",
    "citibike_11_2 = pd.read_csv('2021-citibike-tripdata/202111-citibike-tripdata_2.csv')\n",
    "citibike_11_3 = pd.read_csv('2021-citibike-tripdata/202111-citibike-tripdata_3.csv')"
   ]
  },
  {
   "cell_type": "code",
   "execution_count": 34,
   "metadata": {},
   "outputs": [],
   "source": [
    "# merge the 3 csv files into one DataFrame\n",
    "citibike_11 = pd.concat([citibike_11_1, citibike_11_2, citibike_11_3], ignore_index=True)"
   ]
  },
  {
   "cell_type": "code",
   "execution_count": 35,
   "metadata": {},
   "outputs": [],
   "source": [
    "# save as new csv file\n",
    "citibike_11.to_csv('2021-citibike-tripdata/202111-citibike-tripdata.csv', index=False)"
   ]
  },
  {
   "cell_type": "code",
   "execution_count": 39,
   "metadata": {},
   "outputs": [
    {
     "name": "stderr",
     "output_type": "stream",
     "text": [
      "/var/folders/mp/thd95nvx4mx5cz9q4kvwptn40000gn/T/ipykernel_7797/682942556.py:2: DtypeWarning: Columns (5,7) have mixed types. Specify dtype option on import or set low_memory=False.\n",
      "  citibike_12_1 = pd.read_csv('2021-citibike-tripdata/202112-citibike-tripdata_1.csv')\n",
      "/var/folders/mp/thd95nvx4mx5cz9q4kvwptn40000gn/T/ipykernel_7797/682942556.py:3: DtypeWarning: Columns (5,7) have mixed types. Specify dtype option on import or set low_memory=False.\n",
      "  citibike_12_2 = pd.read_csv('2021-citibike-tripdata/202112-citibike-tripdata_2.csv')\n"
     ]
    }
   ],
   "source": [
    "# import new csv file\n",
    "citibike_12_1 = pd.read_csv('2021-citibike-tripdata/202112-citibike-tripdata_1.csv')\n",
    "citibike_12_2 = pd.read_csv('2021-citibike-tripdata/202112-citibike-tripdata_2.csv')"
   ]
  },
  {
   "cell_type": "code",
   "execution_count": 40,
   "metadata": {},
   "outputs": [],
   "source": [
    "# merge the 2 csv files into one DataFrame\n",
    "citibike_12 = pd.concat([citibike_12_1, citibike_12_2], ignore_index=True)"
   ]
  },
  {
   "cell_type": "code",
   "execution_count": 41,
   "metadata": {},
   "outputs": [],
   "source": [
    "# save as new csv file\n",
    "citibike_12.to_csv('2021-citibike-tripdata/202112-citibike-tripdata.csv', index=False)"
   ]
  },
  {
   "cell_type": "markdown",
   "metadata": {},
   "source": [
    "### 2022 Citibike Trip Data (Jan 2022-May 2022)"
   ]
  },
  {
   "cell_type": "code",
   "execution_count": 44,
   "metadata": {},
   "outputs": [
    {
     "name": "stderr",
     "output_type": "stream",
     "text": [
      "/var/folders/mp/thd95nvx4mx5cz9q4kvwptn40000gn/T/ipykernel_7797/743770925.py:2: DtypeWarning: Columns (5,7) have mixed types. Specify dtype option on import or set low_memory=False.\n",
      "  citibike_201_1 = pd.read_csv('2022-citibike-tripdata/202201-citibike-tripdata_1.csv')\n"
     ]
    }
   ],
   "source": [
    "# import new csv file\n",
    "citibike_201_1 = pd.read_csv('2022-citibike-tripdata/202201-citibike-tripdata_1.csv')\n",
    "citibike_201_2 = pd.read_csv('2022-citibike-tripdata/202201-citibike-tripdata_2.csv')"
   ]
  },
  {
   "cell_type": "code",
   "execution_count": 45,
   "metadata": {},
   "outputs": [],
   "source": [
    "# merge the 2 csv files into one DataFrame\n",
    "citibike_201 = pd.concat([citibike_201_1, citibike_201_2], ignore_index=True)"
   ]
  },
  {
   "cell_type": "code",
   "execution_count": 46,
   "metadata": {},
   "outputs": [],
   "source": [
    "# save as new csv file\n",
    "citibike_201.to_csv('2022-citibike-tripdata/202201-citibike-tripdata.csv', index=False)"
   ]
  },
  {
   "cell_type": "code",
   "execution_count": 47,
   "metadata": {},
   "outputs": [
    {
     "name": "stderr",
     "output_type": "stream",
     "text": [
      "/var/folders/mp/thd95nvx4mx5cz9q4kvwptn40000gn/T/ipykernel_7797/154469231.py:2: DtypeWarning: Columns (5,7) have mixed types. Specify dtype option on import or set low_memory=False.\n",
      "  citibike_202_1 = pd.read_csv('2022-citibike-tripdata/202202-citibike-tripdata_1.csv')\n",
      "/var/folders/mp/thd95nvx4mx5cz9q4kvwptn40000gn/T/ipykernel_7797/154469231.py:3: DtypeWarning: Columns (7) have mixed types. Specify dtype option on import or set low_memory=False.\n",
      "  citibike_202_2 = pd.read_csv('2022-citibike-tripdata/202202-citibike-tripdata_2.csv')\n"
     ]
    }
   ],
   "source": [
    "# import new csv file\n",
    "citibike_202_1 = pd.read_csv('2022-citibike-tripdata/202202-citibike-tripdata_1.csv')\n",
    "citibike_202_2 = pd.read_csv('2022-citibike-tripdata/202202-citibike-tripdata_2.csv')"
   ]
  },
  {
   "cell_type": "code",
   "execution_count": 48,
   "metadata": {},
   "outputs": [],
   "source": [
    "# merge the 2 csv files into one DataFrame\n",
    "citibike_202 = pd.concat([citibike_202_1, citibike_202_2], ignore_index=True)"
   ]
  },
  {
   "cell_type": "code",
   "execution_count": 49,
   "metadata": {},
   "outputs": [],
   "source": [
    "# save as new csv file\n",
    "citibike_202.to_csv('2022-citibike-tripdata/202202-citibike-tripdata.csv', index=False)"
   ]
  },
  {
   "cell_type": "code",
   "execution_count": 50,
   "metadata": {},
   "outputs": [
    {
     "name": "stderr",
     "output_type": "stream",
     "text": [
      "/var/folders/mp/thd95nvx4mx5cz9q4kvwptn40000gn/T/ipykernel_7797/2961809207.py:2: DtypeWarning: Columns (5,7) have mixed types. Specify dtype option on import or set low_memory=False.\n",
      "  citibike_203_1 = pd.read_csv('2022-citibike-tripdata/202203-citibike-tripdata_1.csv')\n",
      "/var/folders/mp/thd95nvx4mx5cz9q4kvwptn40000gn/T/ipykernel_7797/2961809207.py:3: DtypeWarning: Columns (5,7) have mixed types. Specify dtype option on import or set low_memory=False.\n",
      "  citibike_203_2 = pd.read_csv('2022-citibike-tripdata/202203-citibike-tripdata_2.csv')\n"
     ]
    }
   ],
   "source": [
    "# import new csv file\n",
    "citibike_203_1 = pd.read_csv('2022-citibike-tripdata/202203-citibike-tripdata_1.csv')\n",
    "citibike_203_2 = pd.read_csv('2022-citibike-tripdata/202203-citibike-tripdata_2.csv')"
   ]
  },
  {
   "cell_type": "code",
   "execution_count": 51,
   "metadata": {},
   "outputs": [],
   "source": [
    "# merge the 2 csv files into one DataFrame\n",
    "citibike_203 = pd.concat([citibike_203_1, citibike_203_2], ignore_index=True)"
   ]
  },
  {
   "cell_type": "code",
   "execution_count": 52,
   "metadata": {},
   "outputs": [],
   "source": [
    "# save as new csv file\n",
    "citibike_203.to_csv('2022-citibike-tripdata/202203-citibike-tripdata.csv', index=False)"
   ]
  },
  {
   "cell_type": "code",
   "execution_count": 53,
   "metadata": {},
   "outputs": [
    {
     "name": "stderr",
     "output_type": "stream",
     "text": [
      "/var/folders/mp/thd95nvx4mx5cz9q4kvwptn40000gn/T/ipykernel_7797/2592054339.py:2: DtypeWarning: Columns (5,7) have mixed types. Specify dtype option on import or set low_memory=False.\n",
      "  citibike_204_1 = pd.read_csv('2022-citibike-tripdata/202204-citibike-tripdata_1.csv')\n",
      "/var/folders/mp/thd95nvx4mx5cz9q4kvwptn40000gn/T/ipykernel_7797/2592054339.py:3: DtypeWarning: Columns (5,7) have mixed types. Specify dtype option on import or set low_memory=False.\n",
      "  citibike_204_2 = pd.read_csv('2022-citibike-tripdata/202204-citibike-tripdata_2.csv')\n",
      "/var/folders/mp/thd95nvx4mx5cz9q4kvwptn40000gn/T/ipykernel_7797/2592054339.py:4: DtypeWarning: Columns (5,7) have mixed types. Specify dtype option on import or set low_memory=False.\n",
      "  citibike_204_3 = pd.read_csv('2022-citibike-tripdata/202204-citibike-tripdata_3.csv')\n"
     ]
    }
   ],
   "source": [
    "# import new csv file\n",
    "citibike_204_1 = pd.read_csv('2022-citibike-tripdata/202204-citibike-tripdata_1.csv')\n",
    "citibike_204_2 = pd.read_csv('2022-citibike-tripdata/202204-citibike-tripdata_2.csv')\n",
    "citibike_204_3 = pd.read_csv('2022-citibike-tripdata/202204-citibike-tripdata_3.csv')"
   ]
  },
  {
   "cell_type": "code",
   "execution_count": 54,
   "metadata": {},
   "outputs": [],
   "source": [
    "# merge the 3 csv files into one DataFrame\n",
    "citibike_204 = pd.concat([citibike_204_1, citibike_204_2, citibike_204_3], ignore_index=True)"
   ]
  },
  {
   "cell_type": "code",
   "execution_count": 55,
   "metadata": {},
   "outputs": [],
   "source": [
    "# save as new csv file\n",
    "citibike_204.to_csv('2022-citibike-tripdata/202204-citibike-tripdata.csv', index=False)"
   ]
  },
  {
   "cell_type": "code",
   "execution_count": 56,
   "metadata": {},
   "outputs": [
    {
     "name": "stderr",
     "output_type": "stream",
     "text": [
      "/var/folders/mp/thd95nvx4mx5cz9q4kvwptn40000gn/T/ipykernel_7797/1706079883.py:2: DtypeWarning: Columns (5,7) have mixed types. Specify dtype option on import or set low_memory=False.\n",
      "  citibike_205_1 = pd.read_csv('2022-citibike-tripdata/202205-citibike-tripdata_1.csv')\n",
      "/var/folders/mp/thd95nvx4mx5cz9q4kvwptn40000gn/T/ipykernel_7797/1706079883.py:3: DtypeWarning: Columns (5,7) have mixed types. Specify dtype option on import or set low_memory=False.\n",
      "  citibike_205_2 = pd.read_csv('2022-citibike-tripdata/202205-citibike-tripdata_2.csv')\n",
      "/var/folders/mp/thd95nvx4mx5cz9q4kvwptn40000gn/T/ipykernel_7797/1706079883.py:4: DtypeWarning: Columns (5,7) have mixed types. Specify dtype option on import or set low_memory=False.\n",
      "  citibike_205_3 = pd.read_csv('2022-citibike-tripdata/202205-citibike-tripdata_3.csv')\n"
     ]
    }
   ],
   "source": [
    "# import new csv file\n",
    "citibike_205_1 = pd.read_csv('2022-citibike-tripdata/202205-citibike-tripdata_1.csv')\n",
    "citibike_205_2 = pd.read_csv('2022-citibike-tripdata/202205-citibike-tripdata_2.csv')\n",
    "citibike_205_3 = pd.read_csv('2022-citibike-tripdata/202205-citibike-tripdata_3.csv')"
   ]
  },
  {
   "cell_type": "code",
   "execution_count": 57,
   "metadata": {},
   "outputs": [],
   "source": [
    "# merge the 3 csv files into one DataFrame\n",
    "citibike_205 = pd.concat([citibike_205_1, citibike_205_2, citibike_205_3], ignore_index=True)"
   ]
  },
  {
   "cell_type": "code",
   "execution_count": 58,
   "metadata": {},
   "outputs": [],
   "source": [
    "# save as new csv file\n",
    "citibike_205.to_csv('2022-citibike-tripdata/202205-citibike-tripdata.csv', index=False)"
   ]
  },
  {
   "cell_type": "code",
   "execution_count": null,
   "metadata": {},
   "outputs": [],
   "source": [
    "# All csv files were downloaded from citibike website"
   ]
  }
 ],
 "metadata": {
  "kernelspec": {
   "display_name": "env1",
   "language": "python",
   "name": "env1"
  },
  "language_info": {
   "codemirror_mode": {
    "name": "ipython",
    "version": 3
   },
   "file_extension": ".py",
   "mimetype": "text/x-python",
   "name": "python",
   "nbconvert_exporter": "python",
   "pygments_lexer": "ipython3",
   "version": "3.11.8"
  }
 },
 "nbformat": 4,
 "nbformat_minor": 2
}
